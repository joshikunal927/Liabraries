{
 "cells": [
  {
   "cell_type": "markdown",
   "metadata": {},
   "source": [
    "# NumPy BASICS"
   ]
  },
  {
   "cell_type": "markdown",
   "metadata": {},
   "source": [
    "## Getting started - import :-"
   ]
  },
  {
   "cell_type": "code",
   "execution_count": 17,
   "metadata": {},
   "outputs": [],
   "source": [
    "import numpy as np"
   ]
  },
  {
   "cell_type": "markdown",
   "metadata": {},
   "source": [
    "---\n",
    "---\n",
    "---\n",
    "## 1. Knowing - shape,size,type of any array :-"
   ]
  },
  {
   "cell_type": "markdown",
   "metadata": {},
   "source": [
    "(i) finding shape of an array - array.shape\n"
   ]
  },
  {
   "cell_type": "code",
   "execution_count": 18,
   "metadata": {},
   "outputs": [
    {
     "name": "stdout",
     "output_type": "stream",
     "text": [
      "(3, 5)\n"
     ]
    }
   ],
   "source": [
    "d2_arr=np.array([[1,2,3,4,5], [8,9,0,3,2], [1,3,5,7,8]])\n",
    "print(d2_arr.shape)"
   ]
  },
  {
   "cell_type": "markdown",
   "metadata": {},
   "source": [
    "(ii) finding size of array ie total number of elements in that array - array.size"
   ]
  },
  {
   "cell_type": "code",
   "execution_count": 19,
   "metadata": {},
   "outputs": [
    {
     "name": "stdout",
     "output_type": "stream",
     "text": [
      "15\n"
     ]
    }
   ],
   "source": [
    "print(d2_arr.size)"
   ]
  },
  {
   "cell_type": "markdown",
   "metadata": {},
   "source": [
    "(iii) finding the number of dimensions - array.ndim"
   ]
  },
  {
   "cell_type": "code",
   "execution_count": 20,
   "metadata": {},
   "outputs": [
    {
     "name": "stdout",
     "output_type": "stream",
     "text": [
      "2\n"
     ]
    }
   ],
   "source": [
    "print(d2_arr.ndim)"
   ]
  },
  {
   "cell_type": "markdown",
   "metadata": {},
   "source": [
    "(iv) checking datatype of array elements - array.dtype (int,float, or str etc)"
   ]
  },
  {
   "cell_type": "code",
   "execution_count": 21,
   "metadata": {},
   "outputs": [
    {
     "name": "stdout",
     "output_type": "stream",
     "text": [
      "int64\n",
      "float64\n"
     ]
    }
   ],
   "source": [
    "d_arr=np.array([1,2.3,5.6])\n",
    "print(d2_arr.dtype)\n",
    "print(d_arr.dtype)"
   ]
  },
  {
   "cell_type": "markdown",
   "metadata": {},
   "source": [
    "(v) changing data-type of array elements - array.astype(new_data_type)"
   ]
  },
  {
   "cell_type": "code",
   "execution_count": 22,
   "metadata": {},
   "outputs": [
    {
     "name": "stdout",
     "output_type": "stream",
     "text": [
      "float64\n",
      "int64\n",
      "int64\n",
      "float64\n"
     ]
    }
   ],
   "source": [
    "print(d_arr.dtype)\n",
    "int_d_arr=d_arr.astype(int)\n",
    "print(int_d_arr.dtype)\n",
    "\n",
    "print(d2_arr.dtype)\n",
    "float_d2_arr=d2_arr.astype(float)\n",
    "print(float_d2_arr.dtype)"
   ]
  },
  {
   "cell_type": "markdown",
   "metadata": {},
   "source": [
    "## 2. Mathematical operations on Arrays (on all elements of arr - 1d 2d 3d all)\n",
    "\n",
    "### operator ------------> syntax\n",
    "##### 1. addition (+)-------> arry+ num  (eg = arr+5)\n",
    "##### 2. subtraction(-)-----> arr - n\n",
    "##### 3. multiplication(*)--> arr * n\n",
    "##### 4. division(/)--------> arr / n\n",
    "##### 5. exponential(**)----> arr ** n \n",
    "##### 6. floor division(//)-> arr //  n \n",
    "##### 7. modulus(%) --------> arr % n"
   ]
  },
  {
   "cell_type": "code",
   "execution_count": 23,
   "metadata": {},
   "outputs": [
    {
     "name": "stdout",
     "output_type": "stream",
     "text": [
      "[20 30 40]\n",
      "[ 7 17 27]\n",
      "[300 600 900]\n",
      "[2. 4. 6.]\n",
      "[ 5 10 15]\n",
      "[3 6 2]\n",
      "[ 10000 160000 810000]\n"
     ]
    }
   ],
   "source": [
    "arr1=np.array([10,20,30])\n",
    "\n",
    "add_10=arr1+10\n",
    "print(add_10)\n",
    "\n",
    "sub_3=arr1-3\n",
    "print(sub_3)\n",
    "\n",
    "mul_30=arr1*30\n",
    "print(mul_30)\n",
    "\n",
    "div_5=arr1/5\n",
    "print(div_5)\n",
    "\n",
    "floor_div_2=arr1//2\n",
    "print(floor_div_2)\n",
    "\n",
    "modulus_7=arr1%7\n",
    "print(modulus_7)\n",
    "\n",
    "expo_4=arr1**4\n",
    "print(expo_4)"
   ]
  },
  {
   "cell_type": "markdown",
   "metadata": {},
   "source": [
    "# 3. Aggrigation functions:\n",
    "Aggregation functions in programming (especially in libraries like NumPy, Pandas, SQL, etc.) are functions that summarize or combine multiple values into a single value — like sum, mean, min, max, etc.\n",
    "\n",
    "###   Function---->\tDescription\n",
    "##### 1. np.sum( arr )--->\tAdds all elements\n",
    "##### 2. np.mean( arr )-->\tAverage of all elements\n",
    "##### 3. np.prod( arr )-->\tProduct of all elements\n",
    "##### 4. np.min( arr )--->\tMinimum value\n",
    "##### 5. np.max( arr )--->\tMaximum value\n",
    "##### 6. np.std( arr )--->\tStandard deviation\n",
    "##### 7. np.var( arr )--->\tVariance"
   ]
  },
  {
   "cell_type": "code",
   "execution_count": 24,
   "metadata": {},
   "outputs": [
    {
     "name": "stdout",
     "output_type": "stream",
     "text": [
      "1252\n",
      "139.11111111111111\n",
      "485718742080\n",
      "1\n",
      "988\n",
      "301.70863223552635\n",
      "91028.0987654321\n"
     ]
    }
   ],
   "source": [
    "arr_aggrigation=np.array([1,66,3,22,95,22,54,988,1])\n",
    "\n",
    "print( np.sum(arr_aggrigation) )\n",
    "print( np.mean(arr_aggrigation) )\n",
    "print( np.prod(arr_aggrigation) )\n",
    "print( np.min(arr_aggrigation) )\n",
    "print( np.max(arr_aggrigation) )\n",
    "print( np.std(arr_aggrigation) )\n",
    "print( np.var(arr_aggrigation) )"
   ]
  }
 ],
 "metadata": {
  "kernelspec": {
   "display_name": "venv",
   "language": "python",
   "name": "python3"
  },
  "language_info": {
   "codemirror_mode": {
    "name": "ipython",
    "version": 3
   },
   "file_extension": ".py",
   "mimetype": "text/x-python",
   "name": "python",
   "nbconvert_exporter": "python",
   "pygments_lexer": "ipython3",
   "version": "3.13.2"
  }
 },
 "nbformat": 4,
 "nbformat_minor": 2
}
