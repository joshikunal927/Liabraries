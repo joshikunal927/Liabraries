{
 "cells": [
  {
   "cell_type": "markdown",
   "metadata": {},
   "source": [
    "# Missing Values Handling :-\n",
    "np.nan---> not a number --> to write nan values\n",
    "\n",
    "\n",
    "np.isnan(array)== detect a missing value --> return a boolean array (T/F)"
   ]
  },
  {
   "cell_type": "code",
   "execution_count": 1,
   "metadata": {},
   "outputs": [],
   "source": [
    "import numpy as np "
   ]
  },
  {
   "cell_type": "code",
   "execution_count": 4,
   "metadata": {},
   "outputs": [
    {
     "name": "stdout",
     "output_type": "stream",
     "text": [
      "[False False False  True False False False False False]\n"
     ]
    }
   ],
   "source": [
    "arr=np.array([1,2,3,np.nan,5,6,7,8,9])\n",
    "\n",
    "print(np.isnan(arr))"
   ]
  },
  {
   "cell_type": "markdown",
   "metadata": {},
   "source": [
    "### # Removing nan values --- array[~np.isnan(arr)]"
   ]
  },
  {
   "cell_type": "code",
   "execution_count": 10,
   "metadata": {},
   "outputs": [
    {
     "name": "stdout",
     "output_type": "stream",
     "text": [
      "[1. 2. 3. 5. 7. 9.]\n"
     ]
    }
   ],
   "source": [
    "arr1=np.array([1,2,3, np.nan, 5,np.nan,7, np.nan,9])\n",
    "\n",
    "removed=arr1[~np.isnan(arr1)]\n",
    "print(removed)"
   ]
  },
  {
   "cell_type": "markdown",
   "metadata": {},
   "source": [
    "### # Replacing missing values with --- np.where[np.isnan(arr), value, arr]"
   ]
  },
  {
   "cell_type": "code",
   "execution_count": 24,
   "metadata": {},
   "outputs": [
    {
     "name": "stdout",
     "output_type": "stream",
     "text": [
      "[  1.   2. 123.   4.   5. 123.   6.   7.]\n",
      "[1.         2.         4.16666667 4.         5.         4.16666667\n",
      " 6.         7.        ]\n",
      "[1. 2. 7. 4. 5. 7. 6. 7.]\n",
      "[1. 2. 1. 4. 5. 1. 6. 7.]\n",
      "[ 1.  2. 25.  4.  5. 25.  6.  7.]\n"
     ]
    }
   ],
   "source": [
    "arr2=np.array([1,2,np.nan, 4,5, np.nan, 6,7])\n",
    "replaced=np.where(np.isnan(arr2), 123, arr2)\n",
    "print(replaced)\n",
    "replaced=np.where(np.isnan(arr2), np.nanmean(arr2), arr2)\n",
    "print(replaced)\n",
    "replaced=np.where(np.isnan(arr2), np.nanmax(arr2), arr2)\n",
    "print(replaced)\n",
    "replaced=np.where(np.isnan(arr2), np.nanmin(arr2), arr2)\n",
    "print(replaced)\n",
    "replaced=np.where(np.isnan(arr2), np.nansum(arr2),arr2)\n",
    "print(replaced)"
   ]
  },
  {
   "cell_type": "markdown",
   "metadata": {},
   "source": [
    "### # Replace with -----> np.nan_to_num(array, nan=value)  (default value =0)"
   ]
  },
  {
   "cell_type": "code",
   "execution_count": 26,
   "metadata": {},
   "outputs": [
    {
     "name": "stdout",
     "output_type": "stream",
     "text": [
      "[ 1.  2. 55.  4.  5. 55.  6.  7.]\n"
     ]
    }
   ],
   "source": [
    "print(np.nan_to_num(arr2, nan=55))"
   ]
  },
  {
   "cell_type": "markdown",
   "metadata": {},
   "source": [
    "### # Checking infinity number (np.inf) ---> np.isinf(arr) ---> return a boolean array"
   ]
  },
  {
   "cell_type": "code",
   "execution_count": 28,
   "metadata": {},
   "outputs": [
    {
     "name": "stdout",
     "output_type": "stream",
     "text": [
      "[False False  True False False  True]\n"
     ]
    }
   ],
   "source": [
    "arr3=np.array([1,2, np.inf, 4,5, -np.inf])\n",
    "print(np.isinf(arr3))"
   ]
  },
  {
   "cell_type": "markdown",
   "metadata": {},
   "source": [
    "#### # replacing infinity number --> np.nan_to_nun(arr, posinf=value, neginf=-value)"
   ]
  },
  {
   "cell_type": "code",
   "execution_count": 31,
   "metadata": {},
   "outputs": [
    {
     "name": "stdout",
     "output_type": "stream",
     "text": [
      "[  1.   2. 233.   4.   5. -22.]\n"
     ]
    }
   ],
   "source": [
    "remove_inf=np.nan_to_num(arr3, posinf=233, neginf=-22)\n",
    "print(remove_inf)"
   ]
  }
 ],
 "metadata": {
  "kernelspec": {
   "display_name": "venv",
   "language": "python",
   "name": "python3"
  },
  "language_info": {
   "codemirror_mode": {
    "name": "ipython",
    "version": 3
   },
   "file_extension": ".py",
   "mimetype": "text/x-python",
   "name": "python",
   "nbconvert_exporter": "python",
   "pygments_lexer": "ipython3",
   "version": "3.13.2"
  }
 },
 "nbformat": 4,
 "nbformat_minor": 2
}
