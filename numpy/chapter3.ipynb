{
 "cells": [
  {
   "cell_type": "markdown",
   "metadata": {},
   "source": [
    "# Indexing and Slicing in numpy arrays"
   ]
  },
  {
   "cell_type": "markdown",
   "metadata": {},
   "source": [
    "## # Getting started - importing"
   ]
  },
  {
   "cell_type": "code",
   "execution_count": 2,
   "metadata": {},
   "outputs": [],
   "source": [
    "import numpy as np"
   ]
  },
  {
   "cell_type": "markdown",
   "metadata": {},
   "source": [
    "---\n",
    "---\n",
    "---\n",
    "## 1. Indexing : (accessing a single element)\n",
    "Indexing is the way you access individual elements (or groups of elements) from data structures like arrays, lists, or strings.\n",
    "\n",
    "same as python indexing- ie from zero to end, and also negative indexng possible\n",
    "\n",
    "for 1d- arry[index]\n",
    "for 2d- arry[row,column]\n",
    "for 3d- arry[block,row,column]"
   ]
  },
  {
   "cell_type": "code",
   "execution_count": 3,
   "metadata": {},
   "outputs": [
    {
     "name": "stdout",
     "output_type": "stream",
     "text": [
      "4\n",
      "7\n",
      "10\n",
      "6\n",
      "44\n",
      "67\n"
     ]
    }
   ],
   "source": [
    "arr_indexing_1d=np.array([1,2,3,4,5,6,7,8,9])\n",
    "arr_indexing_2d=np.array([[1,2,3,4],\n",
    "                          [5,6,7,8],\n",
    "                          [9,10,11,12]])\n",
    "arr_indexing_3d=np.array([[[1,2,3],\n",
    "                           [4,5,6]],\n",
    "                          [[11,22,33],\n",
    "                           [44,55,66]],\n",
    "                          [[12,23,34],\n",
    "                           [45,56,67]]])\n",
    "print(arr_indexing_1d[3])\n",
    "print(arr_indexing_1d[-3])\n",
    "\n",
    "print(arr_indexing_2d[2,1])\n",
    "print(arr_indexing_2d[-2,1])\n",
    "\n",
    "print(arr_indexing_3d[1,1,0])\n",
    "print(arr_indexing_3d[-1,1,-1])"
   ]
  },
  {
   "cell_type": "markdown",
   "metadata": {},
   "source": [
    "## 2. Slicing : (accessing a range of elements)\n",
    "Slicing is used to access a range of elements from arrays, lists, strings, etc.\n",
    "Instead of picking one value (like indexing), slicing gives you a subset.\n",
    "\n",
    "array[start:stop:step] ->>{stop not included}\n",
    "\n",
    "#### 1. 1d array= array[start:stop:step]\n",
    "#### 2. 2d array= array[row_start : row_stop : row_end , col_start : col_stop : col_step]\n",
    "#### 3. 2d array= array[block_start : block_end : block_step, row_start   : row_end   : row_step, col_start   : col_end   : col_step]"
   ]
  },
  {
   "cell_type": "code",
   "execution_count": 4,
   "metadata": {},
   "outputs": [
    {
     "name": "stdout",
     "output_type": "stream",
     "text": [
      "[3 5]\n",
      "[9 8 7 6 5 4 3 2 1]\n",
      "[1 4 7]\n",
      "\n",
      "\n",
      "[[ 5  7]\n",
      " [ 9 11]]\n",
      "[[ 1  2  3  4]\n",
      " [ 5  6  7  8]\n",
      " [ 9 10 11 12]]\n",
      "[[2 3 4]]\n",
      "\n",
      "\n",
      "[[[11 22]\n",
      "  [44 55]]\n",
      "\n",
      " [[12 23]\n",
      "  [45 56]]]\n"
     ]
    }
   ],
   "source": [
    "print(arr_indexing_1d[2:5:2])\n",
    "print(arr_indexing_1d[::-1])\n",
    "print(arr_indexing_1d[::3])\n",
    "\n",
    "print(\"\\n\")\n",
    "\n",
    "print(arr_indexing_2d[1:: , ::2])\n",
    "print(arr_indexing_2d[: , :])\n",
    "print(arr_indexing_2d[:1 , 1:])\n",
    "\n",
    "print(\"\\n\")\n",
    "\n",
    "print(arr_indexing_3d[1: , : , :2])"
   ]
  },
  {
   "cell_type": "markdown",
   "metadata": {},
   "source": [
    "## 3. Fancy Indexing : (selecting multiple elements at once )---> arr[[index1, index2, index3]]\n",
    "Fancy Indexing means accessing array elements using lists or arrays of indices, instead of plain slices.\n",
    "\n",
    "Think of it like:\n",
    "\"Give me elements at these exact positions!\"\n",
    "\n"
   ]
  },
  {
   "cell_type": "markdown",
   "metadata": {},
   "source": [
    "(i) 1d fancy indexing: ----> array( [list of indexes] )"
   ]
  },
  {
   "cell_type": "code",
   "execution_count": 5,
   "metadata": {},
   "outputs": [
    {
     "name": "stdout",
     "output_type": "stream",
     "text": [
      "[1 3 4]\n"
     ]
    }
   ],
   "source": [
    "print(arr_indexing_1d[[0,2,3]])\n"
   ]
  },
  {
   "cell_type": "markdown",
   "metadata": {},
   "source": [
    "(ii) 2d fancy indexing: ----> array( [list of rows] , [list to cols] )======> row = col single element respectively\n",
    "\n",
    "------> array( [rows only] ) ====> select particular rows\n",
    "\n",
    "------> array( [ : , [columns] ] ) =====> selecting rows by slicing and then specific columns by fancy indexing"
   ]
  },
  {
   "cell_type": "code",
   "execution_count": 6,
   "metadata": {},
   "outputs": [
    {
     "name": "stdout",
     "output_type": "stream",
     "text": [
      "[ 6 12]\n"
     ]
    }
   ],
   "source": [
    "print(arr_indexing_2d[[1,2],[1,3]])"
   ]
  },
  {
   "cell_type": "markdown",
   "metadata": {},
   "source": [
    "(iii) 3d fancy indexing ----> array( [block list] , [rows list] , [columns list] )"
   ]
  },
  {
   "cell_type": "code",
   "execution_count": 7,
   "metadata": {},
   "outputs": [
    {
     "name": "stdout",
     "output_type": "stream",
     "text": [
      "[55]\n"
     ]
    }
   ],
   "source": [
    "print(arr_indexing_3d[[1] , [1] , [1]])"
   ]
  },
  {
   "cell_type": "markdown",
   "metadata": {},
   "source": [
    "## 4. Boolean Masking & filtering - \n",
    "Boolean Masking ===> The process of creating a boolean array (True/False) based on a condition (eg. mask = arr > 10 → [False, True, True])\n",
    "\n",
    "filtering ===> The act of using the boolean mask to extract matching elements from the array  (eg. arr[mask] → [20, 30])\n"
   ]
  },
  {
   "cell_type": "code",
   "execution_count": 8,
   "metadata": {},
   "outputs": [
    {
     "name": "stdout",
     "output_type": "stream",
     "text": [
      "[3 4 5 6 7 8 9]\n",
      "[False False False  True  True  True  True  True  True]\n",
      "[4 5 6 7 8 9]\n",
      "[ 7  8  9 10 11 12]\n",
      "[33 44 55 66 34 45 56 67]\n"
     ]
    }
   ],
   "source": [
    "print(arr_indexing_1d[arr_indexing_1d>2]) # filtering + boolean masking\n",
    "\n",
    "\n",
    "print(arr_indexing_1d>=4) # boolean masking\n",
    "print(arr_indexing_1d[arr_indexing_1d>=4]) # filtering\n",
    "\n",
    "print(arr_indexing_2d[arr_indexing_2d>=7])\n",
    "\n",
    "print(arr_indexing_3d[arr_indexing_3d>=33])"
   ]
  },
  {
   "cell_type": "markdown",
   "metadata": {},
   "source": [
    "## 5. Reshaping And Manupulating array :-\n",
    "\n",
    "Reshaping means changing the shape (dimensions/structure) of a NumPy array without changing its data.\n",
    "\n",
    "Manipulation includes reshaping, flattening, transposing, adding/removing dimensions, and more — to prepare data for analysis, processing, or modeling."
   ]
  },
  {
   "cell_type": "markdown",
   "metadata": {},
   "source": [
    "#### 1. Array.reshape(dimensions) ---> return a View (ie changing it will change orignal)........(.rshape() only work if the dimensions matches)\n",
    "\n",
    "for conversion into 1 d array:\n",
    "#### 2. Array.ravel(dimensions) ---> return a View (ie changing it will change orignal)\n",
    "#### 3. Array.flatten(dimensions) ---> return a Copy (ie changing it will not change orignal)"
   ]
  },
  {
   "cell_type": "code",
   "execution_count": 12,
   "metadata": {},
   "outputs": [
    {
     "name": "stdout",
     "output_type": "stream",
     "text": [
      "[[1 2 3]\n",
      " [4 5 6]\n",
      " [7 8 9]] \n",
      "\n",
      "[ 1  2  3  4  5  6  7  8  9 10 11 12] \n",
      "\n",
      "[ 1  2  3  4  5  6 11 22 33 44 55 66 12 23 34 45 56 67]\n"
     ]
    }
   ],
   "source": [
    "arr_reshaped=arr_indexing_1d.reshape(3,3)\n",
    "print(arr_reshaped ,\"\\n\")\n",
    "\n",
    "arr_ravel=arr_indexing_2d.ravel()\n",
    "print(arr_ravel, \"\\n\")\n",
    "\n",
    "arr_flatten=arr_indexing_3d.flatten()\n",
    "print(arr_flatten)"
   ]
  }
 ],
 "metadata": {
  "kernelspec": {
   "display_name": "venv",
   "language": "python",
   "name": "python3"
  },
  "language_info": {
   "codemirror_mode": {
    "name": "ipython",
    "version": 3
   },
   "file_extension": ".py",
   "mimetype": "text/x-python",
   "name": "python",
   "nbconvert_exporter": "python",
   "pygments_lexer": "ipython3",
   "version": "3.13.2"
  }
 },
 "nbformat": 4,
 "nbformat_minor": 2
}
