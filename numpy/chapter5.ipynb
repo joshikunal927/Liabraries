{
 "cells": [
  {
   "cell_type": "markdown",
   "metadata": {},
   "source": [
    "# Broadcasting and Vectorization :- \n",
    "\n",
    "### # Broadcasting = Broadcasting is a powerful feature that allows NumPy to perform operations between arrays of different shapes without writing loops. ===> arrays of different sizes can be operated together\n",
    "\n",
    "### # Vectorization = Vectorization is the process of performing operations on entire arrays (vectors, matrices, etc.) without using explicit loops, by using optimized low-level implementations. ===> if you want to operate each element of a array"
   ]
  },
  {
   "cell_type": "code",
   "execution_count": 1,
   "metadata": {},
   "outputs": [],
   "source": [
    "import numpy as np"
   ]
  },
  {
   "cell_type": "markdown",
   "metadata": {},
   "source": [
    "## # Broadcasting :-"
   ]
  },
  {
   "cell_type": "code",
   "execution_count": 10,
   "metadata": {},
   "outputs": [
    {
     "name": "stdout",
     "output_type": "stream",
     "text": [
      "[21 22 23]\n",
      "[-19 -18 -17]\n",
      "[20 40 60]\n",
      "[0.05 0.1  0.15]\n"
     ]
    }
   ],
   "source": [
    "#1d scalar broadcasting :- (do operations bw arrays of different sizes)\n",
    "arr_1d=np.array([1,2,3])\n",
    "b=[20]\n",
    "\n",
    "print(arr_1d + b)\n",
    "print(arr_1d - b)\n",
    "print(arr_1d * b)\n",
    "print(arr_1d / b)"
   ]
  },
  {
   "cell_type": "code",
   "execution_count": 11,
   "metadata": {},
   "outputs": [
    {
     "name": "stdout",
     "output_type": "stream",
     "text": [
      "[[21 22]\n",
      " [22 23]]\n",
      "[[-19 -18]\n",
      " [-18 -17]]\n",
      "[[20 40]\n",
      " [40 60]]\n",
      "[[0.05 0.1 ]\n",
      " [0.1  0.15]]\n"
     ]
    }
   ],
   "source": [
    "#2d scalar broadcasting:-\n",
    "arr_2d=np.array([[1,2],[2,3]])\n",
    "c=11\n",
    "\n",
    "print(arr_2d + b)\n",
    "print(arr_2d - b)\n",
    "print(arr_2d * b)\n",
    "print(arr_2d / b)"
   ]
  },
  {
   "cell_type": "code",
   "execution_count": 13,
   "metadata": {},
   "outputs": [
    {
     "name": "stdout",
     "output_type": "stream",
     "text": [
      "[[[ 21  22  23]\n",
      "  [ 22  23  24]\n",
      "  [ 25  26  27]]\n",
      "\n",
      " [[ 31  42  53]\n",
      "  [ 64  75  86]\n",
      "  [ 97 108 119]]]\n",
      "[[[-19 -18 -17]\n",
      "  [-18 -17 -16]\n",
      "  [-15 -14 -13]]\n",
      "\n",
      " [[ -9   2  13]\n",
      "  [ 24  35  46]\n",
      "  [ 57  68  79]]]\n",
      "[[[  20   40   60]\n",
      "  [  40   60   80]\n",
      "  [ 100  120  140]]\n",
      "\n",
      " [[ 220  440  660]\n",
      "  [ 880 1100 1320]\n",
      "  [1540 1760 1980]]]\n",
      "[[[0.05 0.1  0.15]\n",
      "  [0.1  0.15 0.2 ]\n",
      "  [0.25 0.3  0.35]]\n",
      "\n",
      " [[0.55 1.1  1.65]\n",
      "  [2.2  2.75 3.3 ]\n",
      "  [3.85 4.4  4.95]]]\n"
     ]
    }
   ],
   "source": [
    "#3d scalar broadcasting :-\n",
    "arr_3d=np.array([[[1,2,3],[2,3,4],[5,6,7]],[[11,22,33],[44,55,66],[77,88,99]]])\n",
    "d=12\n",
    "\n",
    "print(arr_3d + b)\n",
    "print(arr_3d - b)\n",
    "print(arr_3d * b)\n",
    "print(arr_3d / b)"
   ]
  },
  {
   "cell_type": "code",
   "execution_count": 19,
   "metadata": {},
   "outputs": [
    {
     "name": "stdout",
     "output_type": "stream",
     "text": [
      "[[2 4]\n",
      " [5 7]]\n"
     ]
    }
   ],
   "source": [
    "#2d with 1d broadcasting :-\n",
    "arr_1d_1=np.array([1,2])\n",
    "arr_2d_1=np.array([[1,2],[4,5]])\n",
    "\n",
    "print(arr_1d_1+arr_2d_1)"
   ]
  },
  {
   "cell_type": "code",
   "execution_count": 17,
   "metadata": {},
   "outputs": [
    {
     "name": "stdout",
     "output_type": "stream",
     "text": [
      "[[[ 2  4  6]\n",
      "  [ 5  7  9]]\n",
      "\n",
      " [[12 24 36]\n",
      "  [45 57 69]]]\n"
     ]
    }
   ],
   "source": [
    "#3d with 1d broadcasting :-\n",
    "arr_1d_2=np.array([1,2,3])\n",
    "arr_3d_2=np.array([[[1,2,3],[4,5,6]],[[11,22,33],[44,55,66]]])\n",
    "\n",
    "print(arr_1d_2+arr_3d_2)"
   ]
  },
  {
   "cell_type": "code",
   "execution_count": 18,
   "metadata": {},
   "outputs": [
    {
     "name": "stdout",
     "output_type": "stream",
     "text": [
      "[[[101 202 303]\n",
      "  [404 505 606]\n",
      "  [707 808 909]]\n",
      "\n",
      " [[110 211 312]\n",
      "  [413 514 615]\n",
      "  [716 817 918]]]\n"
     ]
    }
   ],
   "source": [
    "#3d with 2d broadcasting :-\n",
    "arr_3d_3 = np.array([\n",
    "    [[1, 2, 3], \n",
    "     [4, 5, 6], \n",
    "     [7, 8, 9]],\n",
    "\n",
    "    [[10, 11, 12], \n",
    "     [13, 14, 15], \n",
    "     [16, 17, 18]]\n",
    "])\n",
    "\n",
    "arr_2d_3 = np.array([\n",
    "    [100, 200, 300],\n",
    "    [400, 500, 600],\n",
    "    [700, 800, 900]\n",
    "])\n",
    "\n",
    "\n",
    "print(arr_3d_3+arr_2d_3)"
   ]
  },
  {
   "cell_type": "markdown",
   "metadata": {},
   "source": [
    "## # Vectorization\n",
    "---> performing a same operation on all elements at once without using loops:-"
   ]
  },
  {
   "cell_type": "code",
   "execution_count": 20,
   "metadata": {},
   "outputs": [
    {
     "name": "stdout",
     "output_type": "stream",
     "text": [
      "[1 2 3 4 5 6 7 8 9]\n",
      "[ 1  4  9 16 25 36 49 64 81]\n"
     ]
    }
   ],
   "source": [
    "#eg1:-\n",
    "arr=np.array([1,2,3,4,5,6,7,8,9])\n",
    "print(arr)\n",
    "\n",
    "square_arr= arr**2\n",
    "print(square_arr)"
   ]
  },
  {
   "cell_type": "code",
   "execution_count": 27,
   "metadata": {},
   "outputs": [
    {
     "name": "stdout",
     "output_type": "stream",
     "text": [
      "[1. 2. 3. 4.]\n",
      "[0.         1.38629436 2.19722458 2.77258872]\n",
      "[2.71828183e+00 5.45981500e+01 8.10308393e+03 8.88611052e+06]\n",
      "[ 0.84147098 -0.7568025   0.41211849 -0.28790332]\n"
     ]
    }
   ],
   "source": [
    "arr1 = np.array([1, 4, 9, 16])\n",
    "\n",
    "arr2=np.sqrt(arr1)\n",
    "print(arr2)\n",
    "\n",
    "arr3= np.log(arr1)\n",
    "print(arr3)\n",
    "\n",
    "arr4= np.exp(arr1)\n",
    "print(arr4)\n",
    "\n",
    "arr5= np.sin(arr1)\n",
    "print(arr5)\n"
   ]
  },
  {
   "cell_type": "code",
   "execution_count": 32,
   "metadata": {},
   "outputs": [
    {
     "name": "stdout",
     "output_type": "stream",
     "text": [
      "[55 77 99]\n",
      "[ 363  726 1089]\n",
      "[ 1331 10648 35937]\n",
      "[ 484 1210 2178]\n"
     ]
    }
   ],
   "source": [
    "arr11=np.array([11,22,33])\n",
    "arr22=np.array([44,55,66])\n",
    "\n",
    "arr33=arr11+arr22\n",
    "\n",
    "arr44=arr11*33\n",
    "\n",
    "arr55=arr11**3\n",
    "\n",
    "arr66=arr11*arr22\n",
    "\n",
    "print(arr33)\n",
    "print(arr44)\n",
    "print(arr55)\n",
    "print(arr66)"
   ]
  }
 ],
 "metadata": {
  "kernelspec": {
   "display_name": "venv",
   "language": "python",
   "name": "python3"
  },
  "language_info": {
   "codemirror_mode": {
    "name": "ipython",
    "version": 3
   },
   "file_extension": ".py",
   "mimetype": "text/x-python",
   "name": "python",
   "nbconvert_exporter": "python",
   "pygments_lexer": "ipython3",
   "version": "3.13.2"
  }
 },
 "nbformat": 4,
 "nbformat_minor": 2
}
