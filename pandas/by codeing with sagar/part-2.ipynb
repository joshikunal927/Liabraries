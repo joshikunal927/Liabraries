{
 "cells": [
  {
   "cell_type": "code",
   "execution_count": 45,
   "metadata": {},
   "outputs": [
    {
     "name": "stdout",
     "output_type": "stream",
     "text": [
      "   roll_num   names   salary\n",
      "0         1   kunal  1200000\n",
      "1         2  kunwar   700000\n",
      "2         3  lokesh   400000\n",
      "3         4   madhu   500000\n",
      "4         5   karan   600000\n",
      "5         6   pooja   400000\n",
      "6         7   kiran   400000\n",
      "7         8   aarif   800000\n",
      "8         9  mridul   900000\n"
     ]
    }
   ],
   "source": [
    "import pandas as pd\n",
    "\n",
    "dict_df={\n",
    "    \"roll_num\":[1,2,3,4,5,6,7,8,9],\n",
    "    \"names\":[\"kunal\",\"kunwar\",\"lokesh\",\"madhu\",\"karan\",\"pooja\",\"kiran\",\"aarif\",\"mridul\"],\n",
    "    \"salary\":[1200000,700000,400000,500000,600000,400000,400000,800000,900000]\n",
    "}\n",
    "df=pd.DataFrame(dict_df)\n",
    "print(df.to_string())"
   ]
  },
  {
   "cell_type": "markdown",
   "metadata": {},
   "source": [
    "## 1. inserting columns - 2ways\n",
    "\n",
    "#### (i) Way 1 --> adding col at last ----> df[\"new_col_name\"]= [data1, data2, data3, .....]"
   ]
  },
  {
   "cell_type": "code",
   "execution_count": 46,
   "metadata": {},
   "outputs": [
    {
     "name": "stdout",
     "output_type": "stream",
     "text": [
      "   roll_num   names   salary  cgpa\n",
      "0         1   kunal  1200000   7.5\n",
      "1         2  kunwar   700000   8.5\n",
      "2         3  lokesh   400000   NaN\n",
      "3         4   madhu   500000   8.0\n",
      "4         5   karan   600000   7.0\n",
      "5         6   pooja   400000   8.0\n",
      "6         7   kiran   400000   8.0\n",
      "7         8   aarif   800000   6.5\n",
      "8         9  mridul   900000   8.0\n"
     ]
    }
   ],
   "source": [
    "df[\"cgpa\"]=[7.5,8.5, None, 8, 7, 8, 8, 6.5, 8]\n",
    "print(df.to_string())"
   ]
  },
  {
   "cell_type": "markdown",
   "metadata": {},
   "source": [
    "#### (ii) Way 2 --> inserting at specific index --> df.insert(col_index_loc, \"col_name\", col_data )"
   ]
  },
  {
   "cell_type": "code",
   "execution_count": 47,
   "metadata": {},
   "outputs": [
    {
     "name": "stdout",
     "output_type": "stream",
     "text": [
      "   roll_num  attandence_percentage   names   salary  cgpa\n",
      "0         1                     75   kunal  1200000   7.5\n",
      "1         2                     85  kunwar   700000   8.5\n",
      "2         3                     75  lokesh   400000   NaN\n",
      "3         4                     90   madhu   500000   8.0\n",
      "4         5                     75   karan   600000   7.0\n",
      "5         6                     83   pooja   400000   8.0\n",
      "6         7                     85   kiran   400000   8.0\n",
      "7         8                     60   aarif   800000   6.5\n",
      "8         9                     85  mridul   900000   8.0\n"
     ]
    }
   ],
   "source": [
    "col_data=[75, 85, 75, 90, 75, 83, 85, 60, 85]\n",
    "df.insert(1, \"attandence_percentage\", col_data )\n",
    "print(df.to_string())"
   ]
  },
  {
   "cell_type": "markdown",
   "metadata": {},
   "source": [
    "## 2. Changing values by using - df.loc[row_index, \"column_name\"] = value\n",
    "\n",
    "(i) single value"
   ]
  },
  {
   "cell_type": "code",
   "execution_count": 48,
   "metadata": {},
   "outputs": [
    {
     "name": "stdout",
     "output_type": "stream",
     "text": [
      "   roll_num  attandence_percentage   names   salary  cgpa\n",
      "0         1                     75   kunal  1200000   7.5\n",
      "1         2                     85  kunwar   700000   8.5\n",
      "2         3                     75  lokesh   400000   6.0\n",
      "3         4                     90   madhu   500000   8.0\n",
      "4         5                     75   karan   600000   7.0\n",
      "5         6                     83   pooja   400000   8.0\n",
      "6         7                     85   kiran   400000   8.0\n",
      "7         8                     60   aarif   800000   6.5\n",
      "8         9                     85  mridul   900000   8.0\n"
     ]
    }
   ],
   "source": [
    "df.loc[2,\"cgpa\"]=6\n",
    "print(df)"
   ]
  },
  {
   "cell_type": "markdown",
   "metadata": {},
   "source": [
    "(ii) multiple values upgrade ---> df['col_name']= df['col_name'] operator value "
   ]
  },
  {
   "cell_type": "code",
   "execution_count": 49,
   "metadata": {},
   "outputs": [
    {
     "name": "stdout",
     "output_type": "stream",
     "text": [
      "   roll_num  attandence_percentage   names   salary  cgpa\n",
      "0         1                     75   kunal  1700000   7.5\n",
      "1         2                     85  kunwar  1200000   8.5\n",
      "2         3                     75  lokesh   900000   6.0\n",
      "3         4                     90   madhu  1000000   8.0\n",
      "4         5                     75   karan  1100000   7.0\n",
      "5         6                     83   pooja   900000   8.0\n",
      "6         7                     85   kiran   900000   8.0\n",
      "7         8                     60   aarif  1300000   6.5\n",
      "8         9                     85  mridul  1400000   8.0\n"
     ]
    }
   ],
   "source": [
    "df['salary'] = df['salary'] + 500000\n",
    "print(df.to_string())"
   ]
  },
  {
   "cell_type": "markdown",
   "metadata": {},
   "source": [
    "## 3. Deleting rows or columns\n",
    "\n",
    "(i) deleting columns => df.drop(columns=[\"col_1\", \"col_2\", ...])"
   ]
  },
  {
   "cell_type": "code",
   "execution_count": 50,
   "metadata": {},
   "outputs": [
    {
     "name": "stdout",
     "output_type": "stream",
     "text": [
      "   attandence_percentage   names   salary\n",
      "0                     75   kunal  1700000\n",
      "1                     85  kunwar  1200000\n",
      "2                     75  lokesh   900000\n",
      "3                     90   madhu  1000000\n",
      "4                     75   karan  1100000\n",
      "5                     83   pooja   900000\n",
      "6                     85   kiran   900000\n",
      "7                     60   aarif  1300000\n",
      "8                     85  mridul  1400000\n"
     ]
    }
   ],
   "source": [
    "df_col_del=df.drop(columns=[\"cgpa\", \"roll_num\"])\n",
    "print(df_col_del)"
   ]
  },
  {
   "cell_type": "markdown",
   "metadata": {},
   "source": [
    "(ii) deleting a row ==> df.drop(row_index)"
   ]
  },
  {
   "cell_type": "code",
   "execution_count": 51,
   "metadata": {},
   "outputs": [
    {
     "name": "stdout",
     "output_type": "stream",
     "text": [
      "   roll_num  attandence_percentage   names   salary  cgpa\n",
      "0         1                     75   kunal  1700000   7.5\n",
      "1         2                     85  kunwar  1200000   8.5\n",
      "3         4                     90   madhu  1000000   8.0\n",
      "4         5                     75   karan  1100000   7.0\n",
      "5         6                     83   pooja   900000   8.0\n",
      "6         7                     85   kiran   900000   8.0\n",
      "7         8                     60   aarif  1300000   6.5\n",
      "8         9                     85  mridul  1400000   8.0\n"
     ]
    }
   ],
   "source": [
    "df_row_del=df.drop(2)\n",
    "print(df_row_del)"
   ]
  }
 ],
 "metadata": {
  "kernelspec": {
   "display_name": "venv",
   "language": "python",
   "name": "python3"
  },
  "language_info": {
   "codemirror_mode": {
    "name": "ipython",
    "version": 3
   },
   "file_extension": ".py",
   "mimetype": "text/x-python",
   "name": "python",
   "nbconvert_exporter": "python",
   "pygments_lexer": "ipython3",
   "version": "3.13.2"
  }
 },
 "nbformat": 4,
 "nbformat_minor": 2
}
