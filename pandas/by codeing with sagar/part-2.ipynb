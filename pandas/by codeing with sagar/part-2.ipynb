{
 "cells": [
  {
   "cell_type": "code",
   "execution_count": 67,
   "metadata": {},
   "outputs": [
    {
     "name": "stdout",
     "output_type": "stream",
     "text": [
      "   roll_num   names     salary  age\n",
      "0         1   kunal  1200000.0   19\n",
      "1         2  kunwar   700000.0   20\n",
      "2         3  lokesh   400000.0   19\n",
      "3         4   madhu        NaN   20\n",
      "4         5   karan   600000.0   18\n",
      "5         6   pooja   400000.0   18\n",
      "6         7   kiran   400000.0   19\n",
      "7         8   aarif   800000.0   20\n",
      "8         9  mridul   900000.0   21\n"
     ]
    }
   ],
   "source": [
    "import pandas as pd\n",
    "\n",
    "dict_df={\n",
    "    \"roll_num\":[1,2,3,4,5,6,7,8,9],\n",
    "    \"names\":[\"kunal\",\"kunwar\",\"lokesh\",\"madhu\",\"karan\",\"pooja\",\"kiran\",\"aarif\",\"mridul\"],\n",
    "    \"salary\":[1200000,700000,400000,None,600000,400000,400000,800000,900000],\n",
    "    \"age\":[19,20,19,20,18,18,19,20,21] \n",
    "    }\n",
    "df=pd.DataFrame(dict_df)\n",
    "print(df.to_string())"
   ]
  },
  {
   "cell_type": "markdown",
   "metadata": {},
   "source": [
    "## 1. inserting columns - 2ways\n",
    "\n",
    "#### (i) Way 1 --> adding col at last ----> df[\"new_col_name\"]= [data1, data2, data3, .....]"
   ]
  },
  {
   "cell_type": "code",
   "execution_count": 68,
   "metadata": {},
   "outputs": [
    {
     "name": "stdout",
     "output_type": "stream",
     "text": [
      "   roll_num   names     salary  age  cgpa\n",
      "0         1   kunal  1200000.0   19   7.5\n",
      "1         2  kunwar   700000.0   20   8.5\n",
      "2         3  lokesh   400000.0   19   NaN\n",
      "3         4   madhu        NaN   20   8.0\n",
      "4         5   karan   600000.0   18   7.0\n",
      "5         6   pooja   400000.0   18   8.0\n",
      "6         7   kiran   400000.0   19   8.0\n",
      "7         8   aarif   800000.0   20   6.5\n",
      "8         9  mridul   900000.0   21   8.0\n"
     ]
    }
   ],
   "source": [
    "df[\"cgpa\"]=[7.5,8.5, None, 8, 7, 8, 8, 6.5, 8]\n",
    "print(df.to_string())"
   ]
  },
  {
   "cell_type": "markdown",
   "metadata": {},
   "source": [
    "#### (ii) Way 2 --> inserting at specific index --> df.insert(col_index_loc, \"col_name\", col_data )"
   ]
  },
  {
   "cell_type": "code",
   "execution_count": 69,
   "metadata": {},
   "outputs": [
    {
     "name": "stdout",
     "output_type": "stream",
     "text": [
      "   roll_num  attandence_percentage   names     salary  age  cgpa\n",
      "0         1                     75   kunal  1200000.0   19   7.5\n",
      "1         2                     85  kunwar   700000.0   20   8.5\n",
      "2         3                     75  lokesh   400000.0   19   NaN\n",
      "3         4                     90   madhu        NaN   20   8.0\n",
      "4         5                     75   karan   600000.0   18   7.0\n",
      "5         6                     83   pooja   400000.0   18   8.0\n",
      "6         7                     85   kiran   400000.0   19   8.0\n",
      "7         8                     60   aarif   800000.0   20   6.5\n",
      "8         9                     85  mridul   900000.0   21   8.0\n"
     ]
    }
   ],
   "source": [
    "col_data=[75, 85, 75, 90, 75, 83, 85, 60, 85]\n",
    "df.insert(1, \"attandence_percentage\", col_data )\n",
    "print(df.to_string())"
   ]
  },
  {
   "cell_type": "markdown",
   "metadata": {},
   "source": [
    "## 2. Changing values by using - df.loc[row_index, \"column_name\"] = value\n",
    "\n",
    "(i) single value"
   ]
  },
  {
   "cell_type": "code",
   "execution_count": 70,
   "metadata": {},
   "outputs": [
    {
     "name": "stdout",
     "output_type": "stream",
     "text": [
      "   roll_num  attandence_percentage   names     salary  age  cgpa\n",
      "0         1                     75   kunal  1200000.0   19   7.5\n",
      "1         2                     85  kunwar   700000.0   20   8.5\n",
      "2         3                     75  lokesh   400000.0   19   6.0\n",
      "3         4                     90   madhu        NaN   20   8.0\n",
      "4         5                     75   karan   600000.0   18   7.0\n",
      "5         6                     83   pooja   400000.0   18   8.0\n",
      "6         7                     85   kiran   400000.0   19   8.0\n",
      "7         8                     60   aarif   800000.0   20   6.5\n",
      "8         9                     85  mridul   900000.0   21   8.0\n"
     ]
    }
   ],
   "source": [
    "df.loc[2,\"cgpa\"]=6\n",
    "print(df)"
   ]
  },
  {
   "cell_type": "markdown",
   "metadata": {},
   "source": [
    "(ii) multiple values upgrade ---> df['col_name']= df['col_name'] operator value "
   ]
  },
  {
   "cell_type": "code",
   "execution_count": 71,
   "metadata": {},
   "outputs": [
    {
     "name": "stdout",
     "output_type": "stream",
     "text": [
      "   roll_num  attandence_percentage   names     salary  age  cgpa\n",
      "0         1                     75   kunal  1700000.0   19   7.5\n",
      "1         2                     85  kunwar  1200000.0   20   8.5\n",
      "2         3                     75  lokesh   900000.0   19   6.0\n",
      "3         4                     90   madhu        NaN   20   8.0\n",
      "4         5                     75   karan  1100000.0   18   7.0\n",
      "5         6                     83   pooja   900000.0   18   8.0\n",
      "6         7                     85   kiran   900000.0   19   8.0\n",
      "7         8                     60   aarif  1300000.0   20   6.5\n",
      "8         9                     85  mridul  1400000.0   21   8.0\n"
     ]
    }
   ],
   "source": [
    "df['salary'] = df['salary'] + 500000\n",
    "print(df.to_string())"
   ]
  },
  {
   "cell_type": "markdown",
   "metadata": {},
   "source": [
    "## 3. Deleting rows or columns\n",
    "\n",
    "(i) deleting columns => df.drop(columns=[\"col_1\", \"col_2\", ...])"
   ]
  },
  {
   "cell_type": "code",
   "execution_count": 72,
   "metadata": {},
   "outputs": [
    {
     "name": "stdout",
     "output_type": "stream",
     "text": [
      "   attandence_percentage   names     salary  age\n",
      "0                     75   kunal  1700000.0   19\n",
      "1                     85  kunwar  1200000.0   20\n",
      "2                     75  lokesh   900000.0   19\n",
      "3                     90   madhu        NaN   20\n",
      "4                     75   karan  1100000.0   18\n",
      "5                     83   pooja   900000.0   18\n",
      "6                     85   kiran   900000.0   19\n",
      "7                     60   aarif  1300000.0   20\n",
      "8                     85  mridul  1400000.0   21\n"
     ]
    }
   ],
   "source": [
    "df_col_del=df.drop(columns=[\"cgpa\", \"roll_num\"])\n",
    "print(df_col_del)"
   ]
  },
  {
   "cell_type": "markdown",
   "metadata": {},
   "source": [
    "(ii) deleting a row ==> df.drop(row_index)"
   ]
  },
  {
   "cell_type": "code",
   "execution_count": 73,
   "metadata": {},
   "outputs": [
    {
     "name": "stdout",
     "output_type": "stream",
     "text": [
      "   roll_num  attandence_percentage   names     salary  age  cgpa\n",
      "0         1                     75   kunal  1700000.0   19   7.5\n",
      "1         2                     85  kunwar  1200000.0   20   8.5\n",
      "3         4                     90   madhu        NaN   20   8.0\n",
      "4         5                     75   karan  1100000.0   18   7.0\n",
      "5         6                     83   pooja   900000.0   18   8.0\n",
      "6         7                     85   kiran   900000.0   19   8.0\n",
      "7         8                     60   aarif  1300000.0   20   6.5\n",
      "8         9                     85  mridul  1400000.0   21   8.0\n"
     ]
    }
   ],
   "source": [
    "df_row_del=df.drop(2)\n",
    "print(df_row_del)"
   ]
  },
  {
   "cell_type": "markdown",
   "metadata": {},
   "source": [
    "## 4. Checking the NaN value :- --->df.isnull() ----> return a boolean df \n",
    "\n",
    "for finding number of missing values in each column ---> df.isnull().sum()\n",
    "\n",
    "\n",
    "to fill the values use df.fillna(), for deleting rows use df.dropna() -----> covered in code with sharad ch6"
   ]
  },
  {
   "cell_type": "code",
   "execution_count": 74,
   "metadata": {},
   "outputs": [
    {
     "name": "stdout",
     "output_type": "stream",
     "text": [
      "   roll_num  attandence_percentage  names  salary    age   cgpa\n",
      "0     False                  False  False   False  False  False\n",
      "1     False                  False  False   False  False  False\n",
      "2     False                  False  False   False  False  False\n",
      "3     False                  False  False    True  False  False\n",
      "4     False                  False  False   False  False  False\n",
      "5     False                  False  False   False  False  False\n",
      "6     False                  False  False   False  False  False\n",
      "7     False                  False  False   False  False  False\n",
      "8     False                  False  False   False  False  False\n",
      "roll_num                 0\n",
      "attandence_percentage    0\n",
      "names                    0\n",
      "salary                   1\n",
      "age                      0\n",
      "cgpa                     0\n",
      "dtype: int64\n"
     ]
    }
   ],
   "source": [
    "print(df.isnull())\n",
    "\n",
    "print(df.isnull().sum())"
   ]
  },
  {
   "cell_type": "markdown",
   "metadata": {},
   "source": [
    "#### using interpolation for filling NaN values ---> Interpolation estimates missing values in a DataFrame or Series based on surrounding values\n",
    "\n",
    "commonly used types of interpolation --> linear, polynomial, time\n",
    "\n",
    "# df.interpolate(method=\"linear\")"
   ]
  },
  {
   "cell_type": "code",
   "execution_count": 75,
   "metadata": {},
   "outputs": [
    {
     "name": "stdout",
     "output_type": "stream",
     "text": [
      "   roll_num  attandence_percentage   names     salary  age  cgpa\n",
      "0         1                     75   kunal  1700000.0   19   7.5\n",
      "1         2                     85  kunwar  1200000.0   20   8.5\n",
      "2         3                     75  lokesh   900000.0   19   6.0\n",
      "3         4                     90   madhu  1000000.0   20   8.0\n",
      "4         5                     75   karan  1100000.0   18   7.0\n",
      "5         6                     83   pooja   900000.0   18   8.0\n",
      "6         7                     85   kiran   900000.0   19   8.0\n",
      "7         8                     60   aarif  1300000.0   20   6.5\n",
      "8         9                     85  mridul  1400000.0   21   8.0\n"
     ]
    },
    {
     "name": "stderr",
     "output_type": "stream",
     "text": [
      "/var/folders/j3/xxzh4f157s9dcyshl829bff40000gn/T/ipykernel_69931/2013013062.py:1: FutureWarning: DataFrame.interpolate with object dtype is deprecated and will raise in a future version. Call obj.infer_objects(copy=False) before interpolating instead.\n",
      "  df_inter=df.interpolate(method=\"linear\")\n"
     ]
    }
   ],
   "source": [
    "df_inter=df.interpolate(method=\"linear\")\n",
    "print(df_inter)"
   ]
  },
  {
   "cell_type": "markdown",
   "metadata": {},
   "source": [
    "## 5. Sorting() :-\n",
    "by single column-> df.sort_values(by=\"column_name\", ascending=true/false)  {true= ascending order, false=descendoing order}"
   ]
  },
  {
   "cell_type": "code",
   "execution_count": 76,
   "metadata": {},
   "outputs": [
    {
     "name": "stdout",
     "output_type": "stream",
     "text": [
      "   roll_num  attandence_percentage   names     salary  age  cgpa\n",
      "0         1                     75   kunal  1700000.0   19   7.5\n",
      "8         9                     85  mridul  1400000.0   21   8.0\n",
      "7         8                     60   aarif  1300000.0   20   6.5\n",
      "1         2                     85  kunwar  1200000.0   20   8.5\n",
      "4         5                     75   karan  1100000.0   18   7.0\n",
      "2         3                     75  lokesh   900000.0   19   6.0\n",
      "5         6                     83   pooja   900000.0   18   8.0\n",
      "6         7                     85   kiran   900000.0   19   8.0\n",
      "3         4                     90   madhu        NaN   20   8.0\n"
     ]
    }
   ],
   "source": [
    "df_sorted_salary=df.sort_values(by=\"salary\",ascending=False)\n",
    "print(df_sorted_salary)"
   ]
  },
  {
   "cell_type": "markdown",
   "metadata": {},
   "source": [
    "by multiple column --> df.sort_values(by=[\"col_1\", \"col_2\", ...], ascending=[True, False, ...])"
   ]
  },
  {
   "cell_type": "code",
   "execution_count": 77,
   "metadata": {},
   "outputs": [
    {
     "name": "stdout",
     "output_type": "stream",
     "text": [
      "   roll_num  attandence_percentage   names     salary  age  cgpa\n",
      "2         3                     75  lokesh   900000.0   19   6.0\n",
      "7         8                     60   aarif  1300000.0   20   6.5\n",
      "4         5                     75   karan  1100000.0   18   7.0\n",
      "0         1                     75   kunal  1700000.0   19   7.5\n",
      "8         9                     85  mridul  1400000.0   21   8.0\n",
      "5         6                     83   pooja   900000.0   18   8.0\n",
      "6         7                     85   kiran   900000.0   19   8.0\n",
      "3         4                     90   madhu        NaN   20   8.0\n",
      "1         2                     85  kunwar  1200000.0   20   8.5\n"
     ]
    }
   ],
   "source": [
    "df_sort_multiple=df.sort_values(by=[\"cgpa\", \"salary\"], ascending=[True, False])\n",
    "print(df_sort_multiple)"
   ]
  },
  {
   "cell_type": "markdown",
   "metadata": {},
   "source": [
    "## 6. Grouping -> grouping by column and applying methametical operations to get something out of it\n",
    "\n",
    "df.groupby(\"col_for_grop\")[\"col_for_mathematical_operation\"].operation()\n",
    "\n",
    "eg--> df.groupby(\"age\")[\"salary\"].sum()"
   ]
  },
  {
   "cell_type": "code",
   "execution_count": 79,
   "metadata": {},
   "outputs": [
    {
     "name": "stdout",
     "output_type": "stream",
     "text": [
      "age\n",
      "18    2000000.0\n",
      "19    3500000.0\n",
      "20    2500000.0\n",
      "21    1400000.0\n",
      "Name: salary, dtype: float64\n",
      "\n",
      "\n",
      "\n",
      "\n",
      "age  salary   \n",
      "18   900000.0     8.0\n",
      "     1100000.0    7.0\n",
      "19   900000.0     7.0\n",
      "     1700000.0    7.5\n",
      "20   1200000.0    8.5\n",
      "     1300000.0    6.5\n",
      "21   1400000.0    8.0\n",
      "Name: cgpa, dtype: float64\n"
     ]
    }
   ],
   "source": [
    "salary_sum_by_age=df.groupby(\"age\")[\"salary\"].sum()\n",
    "print(salary_sum_by_age)\n",
    "\n",
    "print(\"\\n\\n\\n\")\n",
    "\n",
    "cgpa_mean=df.groupby([\"age\",\"salary\"])[\"cgpa\"].mean()\n",
    "print(cgpa_mean)"
   ]
  },
  {
   "cell_type": "markdown",
   "metadata": {},
   "source": [
    "## 7. Merging and concatinating df :\n",
    "\n",
    "Merging --> joining rows of same columns ==> pd.merge(df1, df2, on='common_column', how='inner')\n",
    "\n",
    "how:-\n",
    "'inner' → only matching rows (default)\n",
    "\n",
    "'left' → all from left, match from right\n",
    "\n",
    "'right' → all from right, match from left\n",
    "\n",
    "'outer' → all rows from both, fill NaN where no match\n",
    "\n"
   ]
  },
  {
   "cell_type": "code",
   "execution_count": 83,
   "metadata": {},
   "outputs": [
    {
     "name": "stdout",
     "output_type": "stream",
     "text": [
      "   roll_num   names  attendance_percentage\n",
      "0         2  kunwar                     85\n",
      "1         3  lokesh                     75\n",
      "2         4   madhu                     90 \n",
      "\n",
      "\n",
      "\n",
      "   roll_num   names  attendance_percentage\n",
      "0         1   kunal                    NaN\n",
      "1         2  kunwar                   85.0\n",
      "2         3  lokesh                   75.0\n",
      "3         4   madhu                   90.0\n",
      "4         5     NaN                   80.0 \n",
      "\n",
      "\n",
      "\n",
      "   roll_num   names  attendance_percentage\n",
      "0         1   kunal                    NaN\n",
      "1         2  kunwar                   85.0\n",
      "2         3  lokesh                   75.0\n",
      "3         4   madhu                   90.0 \n",
      "\n",
      "\n",
      "\n",
      "   roll_num   names  attendance_percentage\n",
      "0         2  kunwar                     85\n",
      "1         3  lokesh                     75\n",
      "2         4   madhu                     90\n",
      "3         5     NaN                     80 \n",
      "\n",
      "\n",
      "\n"
     ]
    }
   ],
   "source": [
    "import pandas as pd\n",
    "\n",
    "df1 = pd.DataFrame({\n",
    "    'roll_num': [1, 2, 3, 4],\n",
    "    'names': ['kunal', 'kunwar', 'lokesh', 'madhu']\n",
    "})\n",
    "\n",
    "df2 = pd.DataFrame({\n",
    "    'roll_num': [2, 3, 4, 5],\n",
    "    'attendance_percentage': [85, 75, 90, 80]\n",
    "})\n",
    "\n",
    "merged_df = pd.merge(df1, df2, on='roll_num', how='inner') #only matching rows\n",
    "print(merged_df,\"\\n\\n\\n\")\n",
    "merged_df = pd.merge(df1, df2, on='roll_num', how='outer') # all rows, fill NaN where no value \n",
    "print(merged_df,\"\\n\\n\\n\")\n",
    "merged_df = pd.merge(df1, df2, on='roll_num', how='left') #left df all rows, \n",
    "print(merged_df,\"\\n\\n\\n\")\n",
    "merged_df = pd.merge(df1, df2, on='roll_num', how='right') #right df all rows\n",
    "print(merged_df,\"\\n\\n\\n\")\n"
   ]
  },
  {
   "cell_type": "markdown",
   "metadata": {},
   "source": [
    "cross - cartesian product -> match rows of first df with all rows of second ===> df1.merge(df2, how='cross')"
   ]
  },
  {
   "cell_type": "code",
   "execution_count": 84,
   "metadata": {},
   "outputs": [
    {
     "name": "stdout",
     "output_type": "stream",
     "text": [
      "  student  subject\n",
      "0       A     Math\n",
      "1       A  English\n",
      "2       B     Math\n",
      "3       B  English\n"
     ]
    }
   ],
   "source": [
    "import pandas as pd\n",
    "\n",
    "df1 = pd.DataFrame({'student': ['A', 'B']})\n",
    "df2 = pd.DataFrame({'subject': ['Math', 'English']})\n",
    "\n",
    "# Cross join\n",
    "crossed = df1.merge(df2, how='cross')\n",
    "print(crossed)\n"
   ]
  },
  {
   "cell_type": "markdown",
   "metadata": {},
   "source": [
    "## 8. Concatinating -> pd.concat([df1, df2], axis=0/1, ignore_index=True)\n",
    "\n",
    "axis =0 for rows concat\n",
    "\n",
    "axis=1 for columns concat\n",
    "\n"
   ]
  },
  {
   "cell_type": "code",
   "execution_count": 86,
   "metadata": {},
   "outputs": [
    {
     "name": "stdout",
     "output_type": "stream",
     "text": [
      "   roll_num     name\n",
      "0         1    Alice\n",
      "1         2      Bob\n",
      "2         3  Charlie\n",
      "3         4    David \n",
      "\n",
      "\n",
      "\n",
      "   0      1  2        3\n",
      "0  1  Alice  3  Charlie\n",
      "1  2    Bob  4    David \n",
      "\n",
      "\n",
      "\n"
     ]
    }
   ],
   "source": [
    "df1 = pd.DataFrame({\n",
    "    'roll_num': [1, 2],\n",
    "    'name': ['Alice', 'Bob']\n",
    "})\n",
    "\n",
    "df2 = pd.DataFrame({\n",
    "    'roll_num': [3, 4],\n",
    "    'name': ['Charlie', 'David']\n",
    "})\n",
    "\n",
    "result = pd.concat([df1, df2], axis=0, ignore_index=True)\n",
    "print(result,\"\\n\\n\\n\")\n",
    "result = pd.concat([df1, df2], axis=1, ignore_index=True)\n",
    "print(result,\"\\n\\n\\n\")"
   ]
  }
 ],
 "metadata": {
  "kernelspec": {
   "display_name": "venv",
   "language": "python",
   "name": "python3"
  },
  "language_info": {
   "codemirror_mode": {
    "name": "ipython",
    "version": 3
   },
   "file_extension": ".py",
   "mimetype": "text/x-python",
   "name": "python",
   "nbconvert_exporter": "python",
   "pygments_lexer": "ipython3",
   "version": "3.13.2"
  }
 },
 "nbformat": 4,
 "nbformat_minor": 2
}
