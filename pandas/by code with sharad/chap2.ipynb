{
 "cells": [
  {
   "cell_type": "markdown",
   "metadata": {},
   "source": [
    "# # data frames:\n",
    "---> A DataFrame is a 2D labeled data structure — like a table or a spreadsheet.\n",
    "You can think of it as a collection of Series, where each column is a Series with the same row index."
   ]
  },
  {
   "cell_type": "markdown",
   "metadata": {},
   "source": [
    "##### # dictionary_syntax_for_dataframe = { \"heading_1\" : [value1,value2,...] , \"heading_2\" : [value1,value2,...] ,  ....}"
   ]
  },
  {
   "cell_type": "code",
   "execution_count": null,
   "metadata": {},
   "outputs": [],
   "source": [
    "import pandas as pd \n",
    "\n",
    "dict_class={\"roll_nums\":[63,64,65],\"names\":[\"kunal\",\"kunwar\",\"lokesh\"]} # if i dont write matching rows wrt other cols then error\n",
    "df_class=pd.DataFrame(dict_class)\n",
    "print(df_class)"
   ]
  },
  {
   "cell_type": "markdown",
   "metadata": {},
   "source": [
    "### # accessing only specific row : series.loc[index] --> using indexing while printing"
   ]
  },
  {
   "cell_type": "code",
   "execution_count": null,
   "metadata": {},
   "outputs": [],
   "source": [
    "print(df_class.loc[0], \"\\n\\n\\n\") # single row as 1d\n",
    "\n",
    "print(df_class.loc[[0,1]]) # two or more rows as 2d always"
   ]
  },
  {
   "cell_type": "markdown",
   "metadata": {},
   "source": [
    "#### # naming our own index while makind dataframe :- pd.ataFrame(dict, index=[index1, index2, index3])"
   ]
  },
  {
   "cell_type": "code",
   "execution_count": null,
   "metadata": {},
   "outputs": [],
   "source": [
    "df_class_1=pd.DataFrame(dict_class, index=[12,13,14])\n",
    "print(df_class_1)"
   ]
  },
  {
   "cell_type": "markdown",
   "metadata": {},
   "source": [
    "### # load data of csv file into dataframe : \n",
    "var1=pd.read_csv('path_of_csv')\n",
    "\n",
    "print(var1)"
   ]
  },
  {
   "cell_type": "code",
   "execution_count": null,
   "metadata": {},
   "outputs": [],
   "source": [
    "csv_read=pd.read_csv('data.csv')\n",
    "print(csv_read)"
   ]
  },
  {
   "cell_type": "markdown",
   "metadata": {},
   "source": [
    "## # .iloc[] -----> is used to select data by row/column number, not by label. ===> df.iloc[row_index, column_index]\n",
    "\n",
    "can use sclicing, indexing etc for pointing a element\n"
   ]
  },
  {
   "cell_type": "code",
   "execution_count": 33,
   "metadata": {},
   "outputs": [
    {
     "name": "stdout",
     "output_type": "stream",
     "text": [
      "   roll_nums   names\n",
      "0         63   kunal\n",
      "1         64  kunwar\n",
      "2         65  lokesh \n",
      "\n",
      "roll_nums       63\n",
      "names        kunal\n",
      "Name: 0, dtype: object \n",
      "\n",
      "   roll_nums   names\n",
      "0         63   kunal\n",
      "1         64  kunwar \n",
      "\n",
      "0    63\n",
      "1    64\n",
      "Name: roll_nums, dtype: int64 \n",
      "\n",
      "0     kunal\n",
      "1    kunwar\n",
      "Name: names, dtype: object \n",
      "\n",
      "names    lokesh\n",
      "Name: 2, dtype: object \n",
      "\n"
     ]
    }
   ],
   "source": [
    "df=pd.DataFrame(dict_class)\n",
    "print(df,\"\\n\")\n",
    "\n",
    "print(df.iloc[0],\"\\n\")\n",
    "print(df.iloc[0:2],\"\\n\")\n",
    "print(df.iloc[0:2, 0],\"\\n\")\n",
    "print(df.iloc[0:2, 1],\"\\n\")\n",
    "print(df.iloc[2, 1:2],\"\\n\")\n"
   ]
  }
 ],
 "metadata": {
  "kernelspec": {
   "display_name": "venv",
   "language": "python",
   "name": "python3"
  },
  "language_info": {
   "codemirror_mode": {
    "name": "ipython",
    "version": 3
   },
   "file_extension": ".py",
   "mimetype": "text/x-python",
   "name": "python",
   "nbconvert_exporter": "python",
   "pygments_lexer": "ipython3",
   "version": "3.13.2"
  }
 },
 "nbformat": 4,
 "nbformat_minor": 2
}
