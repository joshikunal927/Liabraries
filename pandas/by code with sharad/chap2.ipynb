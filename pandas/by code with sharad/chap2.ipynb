{
 "cells": [
  {
   "cell_type": "markdown",
   "metadata": {},
   "source": [
    "# # data frames:\n",
    "---> A DataFrame is a 2D labeled data structure — like a table or a spreadsheet.\n",
    "You can think of it as a collection of Series, where each column is a Series with the same row index."
   ]
  },
  {
   "cell_type": "markdown",
   "metadata": {},
   "source": [
    "##### # dictionary_syntax_for_dataframe = { \"heading_1\" : [value1,value2,...] , \"heading_2\" : [value1,value2,...] ,  ....}"
   ]
  },
  {
   "cell_type": "code",
   "execution_count": 47,
   "metadata": {},
   "outputs": [
    {
     "name": "stdout",
     "output_type": "stream",
     "text": [
      "   roll_nums   names  salary\n",
      "0         63   kunal   20000\n",
      "1         64  kunwar   10000\n",
      "2         65  lokesh   50000\n"
     ]
    }
   ],
   "source": [
    "import pandas as pd \n",
    "\n",
    "dict_class={\"roll_nums\":[63,64,65],\"names\":[\"kunal\",\"kunwar\",\"lokesh\"],\"salary\":[20000,10000,50000]} # if i dont write matching rows wrt other cols then error\n",
    "df_class=pd.DataFrame(dict_class)\n",
    "print(df_class)"
   ]
  },
  {
   "cell_type": "markdown",
   "metadata": {},
   "source": [
    "### # accessing only specific row : series.loc[index] --> using indexing while printing"
   ]
  },
  {
   "cell_type": "code",
   "execution_count": 48,
   "metadata": {},
   "outputs": [
    {
     "name": "stdout",
     "output_type": "stream",
     "text": [
      "roll_nums       63\n",
      "names        kunal\n",
      "salary       20000\n",
      "Name: 0, dtype: object \n",
      "\n",
      "\n",
      "\n",
      "   roll_nums   names  salary\n",
      "0         63   kunal   20000\n",
      "1         64  kunwar   10000\n"
     ]
    }
   ],
   "source": [
    "print(df_class.loc[0], \"\\n\\n\\n\") # single row as 1d\n",
    "\n",
    "print(df_class.loc[[0,1]]) # two or more rows as 2d always"
   ]
  },
  {
   "cell_type": "markdown",
   "metadata": {},
   "source": [
    "#### # naming our own index while makind dataframe :- pd.ataFrame(dict, index=[index1, index2, index3])"
   ]
  },
  {
   "cell_type": "code",
   "execution_count": 49,
   "metadata": {},
   "outputs": [
    {
     "name": "stdout",
     "output_type": "stream",
     "text": [
      "    roll_nums   names  salary\n",
      "12         63   kunal   20000\n",
      "13         64  kunwar   10000\n",
      "14         65  lokesh   50000\n"
     ]
    }
   ],
   "source": [
    "df_class_1=pd.DataFrame(dict_class, index=[12,13,14])\n",
    "print(df_class_1)"
   ]
  },
  {
   "cell_type": "markdown",
   "metadata": {},
   "source": [
    "### # load data of csv file into dataframe : \n",
    "var1=pd.read_csv('path_of_csv')\n",
    "\n",
    "print(var1)"
   ]
  },
  {
   "cell_type": "code",
   "execution_count": 50,
   "metadata": {},
   "outputs": [
    {
     "name": "stdout",
     "output_type": "stream",
     "text": [
      "    Duration          Date  Pulse  Maxpulse  Calories\n",
      "0         60  '2020/12/01'    110       130     409.1\n",
      "1         60  '2020/12/02'    117       145     479.0\n",
      "2         60  '2020/12/03'    103       135     340.0\n",
      "3         45  '2020/12/04'    109       175     282.4\n",
      "4         45  '2020/12/05'    117       148     406.0\n",
      "5         60  '2020/12/06'    102       127     300.0\n",
      "6         60  '2020/12/07'    110       136     374.0\n",
      "7        450  '2020/12/08'    104       134     253.3\n",
      "8         30  '2020/12/09'    109       133     195.1\n",
      "9         60  '2020/12/10'     98       124     269.0\n",
      "10        60  '2020/12/11'    103       147     329.3\n",
      "11        60  '2020/12/12'    100       120     250.7\n",
      "12        60  '2020/12/12'    100       120     250.7\n",
      "13        60  '2020/12/13'    106       128     345.3\n",
      "14        60  '2020/12/14'    104       132     379.3\n",
      "15        60  '2020/12/15'     98       123     275.0\n",
      "16        60  '2020/12/16'     98       120     215.2\n",
      "17        60  '2020/12/17'    100       120     300.0\n",
      "18        45  '2020/12/18'     90       112       NaN\n",
      "19        60  '2020/12/19'    103       123     323.0\n",
      "20        45  '2020/12/20'     97       125     243.0\n",
      "21        60  '2020/12/21'    108       131     364.2\n",
      "22        45           NaN    100       119     282.0\n",
      "23        60  '2020/12/23'    130       101     300.0\n",
      "24        45  '2020/12/24'    105       132     246.0\n",
      "25        60  '2020/12/25'    102       126     334.5\n",
      "26        60      20201226    100       120     250.0\n",
      "27        60  '2020/12/27'     92       118     241.0\n",
      "28        60  '2020/12/28'    103       132       NaN\n",
      "29        60  '2020/12/29'    100       132     280.0\n",
      "30        60  '2020/12/30'    102       129     380.3\n",
      "31        60  '2020/12/31'     92       115     243.0\n"
     ]
    }
   ],
   "source": [
    "csv_read=pd.read_csv('data.csv')\n",
    "print(csv_read)"
   ]
  },
  {
   "cell_type": "markdown",
   "metadata": {},
   "source": [
    "## # .iloc[] -----> is used to select data by row/column number, not by label. ===> df.iloc[row_index, column_index]\n",
    "\n",
    "can use sclicing, indexing etc for pointing a element\n"
   ]
  },
  {
   "cell_type": "code",
   "execution_count": 51,
   "metadata": {},
   "outputs": [
    {
     "name": "stdout",
     "output_type": "stream",
     "text": [
      "   roll_nums   names  salary\n",
      "0         63   kunal   20000\n",
      "1         64  kunwar   10000\n",
      "2         65  lokesh   50000 \n",
      "\n",
      "roll_nums       63\n",
      "names        kunal\n",
      "salary       20000\n",
      "Name: 0, dtype: object \n",
      "\n",
      "   roll_nums   names  salary\n",
      "0         63   kunal   20000\n",
      "1         64  kunwar   10000 \n",
      "\n",
      "0    63\n",
      "1    64\n",
      "Name: roll_nums, dtype: int64 \n",
      "\n",
      "0     kunal\n",
      "1    kunwar\n",
      "Name: names, dtype: object \n",
      "\n",
      "names    lokesh\n",
      "Name: 2, dtype: object \n",
      "\n"
     ]
    }
   ],
   "source": [
    "df=pd.DataFrame(dict_class)\n",
    "print(df,\"\\n\")\n",
    "\n",
    "print(df.iloc[0],\"\\n\")\n",
    "print(df.iloc[0:2],\"\\n\")\n",
    "print(df.iloc[0:2, 0],\"\\n\")\n",
    "print(df.iloc[0:2, 1],\"\\n\")\n",
    "print(df.iloc[2, 1:2],\"\\n\")\n"
   ]
  },
  {
   "cell_type": "markdown",
   "metadata": {},
   "source": [
    "# # applying colditions to filter rows and columns :\n",
    "1. Selecing columns - df[[\"col_name1\", \"col_name2\", ....]] {single or multiple}\n",
    "\n",
    "2. Selecting rows based on conditions -- df[df[\"col_name\"] >=< value] <----- col_name of column on which you wiling to apply condition\n",
    "\n",
    "multiple condifions -- df[ (df[\"col_name_1\"] >=< coldition_value) & or | (condition_2) & or | (condition_3) ]\n",
    "\n",
    "\n",
    "### 1 Selection columns :- "
   ]
  },
  {
   "cell_type": "code",
   "execution_count": 52,
   "metadata": {},
   "outputs": [
    {
     "name": "stdout",
     "output_type": "stream",
     "text": [
      "0     kunal\n",
      "1    kunwar\n",
      "2    lokesh\n",
      "Name: names, dtype: object\n",
      "    names  roll_nums\n",
      "0   kunal         63\n",
      "1  kunwar         64\n",
      "2  lokesh         65\n"
     ]
    }
   ],
   "source": [
    "df_col=df[\"names\"]\n",
    "print(df_col)\n",
    "\n",
    "df_cols=df[[\"names\", \"roll_nums\"]]\n",
    "print(df_cols)"
   ]
  },
  {
   "cell_type": "markdown",
   "metadata": {},
   "source": [
    "### 2 for rows based on conditions :-"
   ]
  },
  {
   "cell_type": "code",
   "execution_count": 54,
   "metadata": {},
   "outputs": [
    {
     "name": "stdout",
     "output_type": "stream",
     "text": [
      "   roll_nums   names  salary\n",
      "2         65  lokesh   50000\n",
      "   roll_nums   names  salary\n",
      "0         63   kunal   20000\n",
      "1         64  kunwar   10000\n",
      "2         65  lokesh   50000\n"
     ]
    }
   ],
   "source": [
    "df_rows=df[df[\"roll_nums\"]>64]\n",
    "print(df_rows)\n",
    "\n",
    "df_row=df[(df[\"roll_nums\"]>63) | (df[\"salary\"]<50000)]\n",
    "print(df_row)"
   ]
  }
 ],
 "metadata": {
  "kernelspec": {
   "display_name": "venv",
   "language": "python",
   "name": "python3"
  },
  "language_info": {
   "codemirror_mode": {
    "name": "ipython",
    "version": 3
   },
   "file_extension": ".py",
   "mimetype": "text/x-python",
   "name": "python",
   "nbconvert_exporter": "python",
   "pygments_lexer": "ipython3",
   "version": "3.13.2"
  }
 },
 "nbformat": 4,
 "nbformat_minor": 2
}
