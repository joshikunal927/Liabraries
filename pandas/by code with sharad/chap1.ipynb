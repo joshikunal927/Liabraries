{
 "cells": [
  {
   "cell_type": "code",
   "execution_count": 7,
   "metadata": {},
   "outputs": [
    {
     "name": "stdout",
     "output_type": "stream",
     "text": [
      "2.2.3\n"
     ]
    }
   ],
   "source": [
    "import pandas as pd\n",
    "\n",
    "print(pd.__version__)"
   ]
  },
  {
   "cell_type": "markdown",
   "metadata": {},
   "source": [
    "series ----> column\n",
    "\n",
    "dataframe --> table"
   ]
  },
  {
   "cell_type": "markdown",
   "metadata": {},
   "source": [
    "#  # Making pandas series:- ---> pd.Series(list) ==> columns with indexing\n",
    "\n",
    "A Series is basically a one-dimensional labeled array. You can think of it like a column in Excel or a single column in a DataFrame. It holds data like numbers, strings, or even Python objects — and it has labels called index.\n",
    "\n",
    "(index will come by default while printing)\n",
    "## (I) by Lists : "
   ]
  },
  {
   "cell_type": "markdown",
   "metadata": {},
   "source": [
    "### 1. with default index :-"
   ]
  },
  {
   "cell_type": "code",
   "execution_count": 27,
   "metadata": {},
   "outputs": [
    {
     "name": "stdout",
     "output_type": "stream",
     "text": [
      "0    1\n",
      "1    2\n",
      "2    3\n",
      "3    4\n",
      "4    5\n",
      "5    6\n",
      "dtype: int64 \n",
      "\n",
      "\n",
      "\n",
      "0     7\n",
      "1     8\n",
      "2     9\n",
      "3    10\n",
      "dtype: int64\n"
     ]
    }
   ],
   "source": [
    "series1=pd.Series([1,2,3,4,5,6])\n",
    "print(series1,\"\\n\\n\\n\")\n",
    "\n",
    "series2_list=[7,8,9,10]\n",
    "series2=pd.Series(series2_list)\n",
    "print(series2)"
   ]
  },
  {
   "cell_type": "markdown",
   "metadata": {},
   "source": [
    "### 2. with custom index :- "
   ]
  },
  {
   "cell_type": "code",
   "execution_count": 18,
   "metadata": {},
   "outputs": [
    {
     "name": "stdout",
     "output_type": "stream",
     "text": [
      "kunal     20\n",
      "joshi     30\n",
      "kunjos    40\n",
      "dtype: int64\n"
     ]
    }
   ],
   "source": [
    "series_2=pd.Series([20,30,40], index=[\"kunal\",\"joshi\",\"kunjos\"])\n",
    "print(series_2)"
   ]
  },
  {
   "cell_type": "markdown",
   "metadata": {},
   "source": [
    "### 3. Indexing :- ---> series_name[index_value]"
   ]
  },
  {
   "cell_type": "code",
   "execution_count": 21,
   "metadata": {},
   "outputs": [
    {
     "name": "stdout",
     "output_type": "stream",
     "text": [
      "3\n",
      "20\n"
     ]
    }
   ],
   "source": [
    "print(series1[2])\n",
    "print(series_2[\"kunal\"])"
   ]
  },
  {
   "cell_type": "markdown",
   "metadata": {},
   "source": [
    "## (II) by Dictionary :\n",
    "\n",
    "pd.Series(dictionary) ---> make series of a dictionary "
   ]
  },
  {
   "cell_type": "code",
   "execution_count": 23,
   "metadata": {},
   "outputs": [
    {
     "name": "stdout",
     "output_type": "stream",
     "text": [
      "day1    21\n",
      "day2    30\n",
      "day3    33\n",
      "dtype: int64\n"
     ]
    }
   ],
   "source": [
    "dict1={\"day1\":21,\"day2\":30,\"day3\":33}\n",
    "series_dict=pd.Series(dict1)\n",
    "print(series_dict)"
   ]
  },
  {
   "cell_type": "markdown",
   "metadata": {},
   "source": [
    "pd.Series(dict, index=[index1, index2]) --------> to make series of specific indexes only"
   ]
  },
  {
   "cell_type": "code",
   "execution_count": 24,
   "metadata": {},
   "outputs": [
    {
     "name": "stdout",
     "output_type": "stream",
     "text": [
      "day1    21\n",
      "day2    30\n",
      "dtype: int64\n"
     ]
    }
   ],
   "source": [
    "#want to make series of only specific indexes from dict :\n",
    "series_dict_selected=pd.Series(dict1, index=[\"day1\",\"day2\"])\n",
    "print(series_dict_selected)"
   ]
  },
  {
   "cell_type": "markdown",
   "metadata": {},
   "source": [
    "# # dataframes\n",
    "A DataFrame is a 2D labeled data structure — like a table or a spreadsheet.\n",
    "You can think of it as a collection of Series, where each column is a Series with the same row index.\n",
    "\n",
    "example dataframe : (index will come by default while printing)"
   ]
  },
  {
   "cell_type": "code",
   "execution_count": 28,
   "metadata": {},
   "outputs": [
    {
     "name": "stdout",
     "output_type": "stream",
     "text": [
      "   roll nums   names\n",
      "0         63   kunal\n",
      "1         64  kunwar\n",
      "2         65  lokesh\n"
     ]
    }
   ],
   "source": [
    "dict_class={\"roll nums\":[63,64,65],\"names\":[\"kunal\",\"kunwar\",\"lokesh\"]}\n",
    "df_class=pd.DataFrame(dict_class)\n",
    "print(df_class)"
   ]
  }
 ],
 "metadata": {
  "kernelspec": {
   "display_name": "venv",
   "language": "python",
   "name": "python3"
  },
  "language_info": {
   "codemirror_mode": {
    "name": "ipython",
    "version": 3
   },
   "file_extension": ".py",
   "mimetype": "text/x-python",
   "name": "python",
   "nbconvert_exporter": "python",
   "pygments_lexer": "ipython3",
   "version": "3.13.2"
  }
 },
 "nbformat": 4,
 "nbformat_minor": 2
}
